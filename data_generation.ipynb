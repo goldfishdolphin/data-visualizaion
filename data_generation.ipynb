{
 "cells": [
  {
   "cell_type": "code",
   "execution_count": null,
   "id": "f011e6c5-e861-4797-98cc-279d74c9d82f",
   "metadata": {},
   "outputs": [],
   "source": [
    "pip install matplotlib"
   ]
  },
  {
   "cell_type": "code",
   "execution_count": null,
   "id": "8307a5c9-8e7d-47f4-a8e8-00aef498a6a3",
   "metadata": {},
   "outputs": [],
   "source": [
    "import matplotlib.pyplot as plt\n",
    "input_values = [1, 2, 3, 4, 5]\n",
    "squares = [1, 4, 9, 16, 25]\n",
    "fig, ax = plt.subplots()\n",
    "plt.style.use('dark_background')\n",
    "ax.plot(input_values, squares, linewidth=3)\n",
    "ax.set_title(\"Square Numbers\", fontsize=24)\n",
    "ax.set_xlabel(\"Value\", fontsize =14)\n",
    "ax.set_ylabel(\"Square of Value\", fontsize =14)\n",
    "ax.tick_params(labelsize=14)\n",
    "plt.show()"
   ]
  },
  {
   "cell_type": "markdown",
   "id": "3e0918d3-f995-4244-9779-e7ae5bba79d9",
   "metadata": {},
   "source": [
    "## Plot and Style Points on the graph"
   ]
  },
  {
   "cell_type": "code",
   "execution_count": null,
   "id": "a5c92243-5782-4eae-93a9-b710004a9719",
   "metadata": {},
   "outputs": [],
   "source": [
    "\n",
    "x_values = [1, 2, 3, 4, 5]\n",
    "y_values = [1, 4, 9, 16, 25]\n",
    "plt.style.use('seaborn-v0_8')\n",
    "fig, ax = plt.subplots()\n",
    "ax.scatter(x_values,y_values, s=100)\n",
    "ax.set_title(\"Square Numners\", fontsize=24)\n",
    "ax.set_xlabel(\"Value\", fontsize=14)\n",
    "ax.set_ylabel(\"Square of Value\", fontsize=14)\n",
    "ax.tick_params(labelsize =14)\n",
    "plt.show()"
   ]
  },
  {
   "cell_type": "markdown",
   "id": "34cb3247-c865-4a3a-a540-135d0ae45bcd",
   "metadata": {},
   "source": [
    "## Calculating Data Automatically"
   ]
  },
  {
   "cell_type": "code",
   "execution_count": null,
   "id": "77ff82e8-1b1c-49fb-a9ff-8218ba0ea42e",
   "metadata": {},
   "outputs": [],
   "source": [
    "x_values = range(1,1001)\n",
    "y_values = [x**2 for x in x_values]\n",
    "plt.style.use( 'seaborn-v0_8-notebook')\n",
    "fig, ax = plt.subplots()\n",
    "ax.scatter(x_values, y_values, c=y_values, cmap=plt.cm.Blues , s=10)\n",
    "ax.set_title(\"Square Numners\", fontsize=24)\n",
    "ax.set_xlabel(\"Value\", fontsize=14)\n",
    "ax.set_ylabel(\"Square of Value\", fontsize=14)\n",
    "ax.tick_params(labelsize =14)\n",
    "ax.axis([0,1100, 0,1_100_000])\n",
    "ax.ticklabel_format(style='plain')\n",
    "plt.show()"
   ]
  },
  {
   "cell_type": "markdown",
   "id": "733b24c3-443d-4c0f-82d4-53ea8ff74b0b",
   "metadata": {},
   "source": [
    "# Random Walk"
   ]
  },
  {
   "cell_type": "code",
   "execution_count": null,
   "id": "ce2efd87-c8e4-4b0b-8f59-7487e5fa7e41",
   "metadata": {},
   "outputs": [],
   "source": [
    "\n",
    "from random import choice\n",
    "class RandomWalk:\n",
    "    def __init__(self, num_points= 5000):\n",
    "        self.num_points = num_points\n",
    "        self.x_values =[0]\n",
    "        self.y_values = [0]\n",
    "    def fill_walk(self):\n",
    "        while len(self.x_values) < self.num_points:\n",
    "            x_direction = choice([1, -1])\n",
    "            x_distance = choice([0, 1, 2, 3, 4])\n",
    "            x_step = x_direction  * x_distance\n",
    "            y_direction = choice([1, -1])\n",
    "            y_distance = choice([0, 1, 2,3, 4])\n",
    "            y_step = y_direction * y_distance\n",
    "            if x_step == 0 and y_step == 0:\n",
    "                continue\n",
    "            x= self.x_values[-1] + x_step\n",
    "            y = self.y_values[-1] + y_step\n",
    "            self.x_values.append(x)\n",
    "            self.y_values.append(y)\n",
    "\n",
    "\n",
    "\n"
   ]
  },
  {
   "cell_type": "code",
   "execution_count": null,
   "id": "8d4ac8cd-10fd-4e29-bfdf-cb276dfe96d6",
   "metadata": {},
   "outputs": [],
   "source": [
    "import matplotlib.pyplot as plt\n",
    "rw = RandomWalk()\n",
    "rw.fill_walk()\n",
    "plt.style.use('classic')\n",
    "fig, ax = plt.subplots()\n",
    "ax.scatter(rw.x_values, rw.y_values, s=15)\n",
    "ax.set_aspect('equal')\n",
    "plt.show()"
   ]
  },
  {
   "cell_type": "markdown",
   "id": "5e667731-3d59-4c7b-9002-47602304279a",
   "metadata": {},
   "source": [
    "## Generate Multiple Random walks"
   ]
  },
  {
   "cell_type": "code",
   "execution_count": 2,
   "id": "5263ef22-2e6e-46f8-bdef-68dae5194aba",
   "metadata": {},
   "outputs": [
    {
     "ename": "NameError",
     "evalue": "name 'RandomWalk' is not defined",
     "output_type": "error",
     "traceback": [
      "\u001b[0;31m---------------------------------------------------------------------------\u001b[0m",
      "\u001b[0;31mNameError\u001b[0m                                 Traceback (most recent call last)",
      "Cell \u001b[0;32mIn[2], line 2\u001b[0m\n\u001b[1;32m      1\u001b[0m \u001b[38;5;28;01mwhile\u001b[39;00m \u001b[38;5;28;01mTrue\u001b[39;00m:\n\u001b[0;32m----> 2\u001b[0m     rw \u001b[38;5;241m=\u001b[39m RandomWalk(\u001b[38;5;241m50_000\u001b[39m)\n\u001b[1;32m      3\u001b[0m     rw\u001b[38;5;241m.\u001b[39mfill_walk()\n\u001b[1;32m      4\u001b[0m     plt\u001b[38;5;241m.\u001b[39mstyle\u001b[38;5;241m.\u001b[39muse(\u001b[38;5;124m'\u001b[39m\u001b[38;5;124mclassic\u001b[39m\u001b[38;5;124m'\u001b[39m)\n",
      "\u001b[0;31mNameError\u001b[0m: name 'RandomWalk' is not defined"
     ]
    }
   ],
   "source": [
    "\n",
    "while True:\n",
    "    rw = RandomWalk(50_000)\n",
    "    rw.fill_walk()\n",
    "    plt.style.use('classic')\n",
    "    fig, ax = plt.subplots(figsize=(10,6),dpi =128)\n",
    "    color_choice = choice([plt.cm.Blues, plt.cm.Reds, plt.cm.Greens])\n",
    "    point_numbers=range(rw.num_points)\n",
    "    ax.scatter(rw.x_values, rw.y_values, c=point_numbers, cmap=color_choice, edgecolors='none', s=1)\n",
    "    ax.set_aspect('equal')\n",
    "    ax.scatter(0,0, c='orange', s=100)\n",
    "    ax.scatter(rw.x_values[-1], rw.y_values[-1], c='grey', s=100)\n",
    "    ax.get_xaxis().set_visible(False)\n",
    "    ax.get_yaxis().set_visible(False)\n",
    "    plt.show()\n",
    "    keep_running = input(\"Make another walk? (y/n: \")\n",
    "    if keep_running == 'n':\n",
    "        break"
   ]
  },
  {
   "cell_type": "code",
   "execution_count": null,
   "id": "4115198b-249e-4991-934a-bb65c97eb1cb",
   "metadata": {},
   "outputs": [],
   "source": []
  }
 ],
 "metadata": {
  "kernelspec": {
   "display_name": "Python [conda env:pyenv]",
   "language": "python",
   "name": "conda-env-pyenv-py"
  },
  "language_info": {
   "codemirror_mode": {
    "name": "ipython",
    "version": 3
   },
   "file_extension": ".py",
   "mimetype": "text/x-python",
   "name": "python",
   "nbconvert_exporter": "python",
   "pygments_lexer": "ipython3",
   "version": "3.11.11"
  }
 },
 "nbformat": 4,
 "nbformat_minor": 5
}
